{
 "cells": [
  {
   "cell_type": "code",
   "execution_count": 30,
   "metadata": {},
   "outputs": [],
   "source": [
    "import predictStock\n",
    "import postTweet\n",
    "from datetime import datetime, date, timedelta\n",
    "import pandas as pd\n",
    "\n",
    "db = pd.read_csv(\"dataBase.csv\",encoding=\"utf8\",index_col='predictDate')\n",
    "predDay = datetime.today()\n",
    "predDay = predDay + timedelta(days=1)\n",
    "predDayFormated = datetime.strftime(predDay,'%Y-%m-%d')\n",
    "predDayDetail = datetime.strftime(predDay,'%Y-%m-%d %H:%M:%S')"
   ]
  },
  {
   "cell_type": "code",
   "execution_count": 32,
   "metadata": {},
   "outputs": [],
   "source": [
    "db.loc[str(predDayFormated)] = [1,\"\",\"\",\"\",\"\",predDayDetail]"
   ]
  },
  {
   "cell_type": "code",
   "execution_count": 33,
   "metadata": {},
   "outputs": [
    {
     "data": {
      "text/html": [
       "<div>\n",
       "<style scoped>\n",
       "    .dataframe tbody tr th:only-of-type {\n",
       "        vertical-align: middle;\n",
       "    }\n",
       "\n",
       "    .dataframe tbody tr th {\n",
       "        vertical-align: top;\n",
       "    }\n",
       "\n",
       "    .dataframe thead th {\n",
       "        text-align: right;\n",
       "    }\n",
       "</style>\n",
       "<table border=\"1\" class=\"dataframe\">\n",
       "  <thead>\n",
       "    <tr style=\"text-align: right;\">\n",
       "      <th></th>\n",
       "      <th>predict</th>\n",
       "      <th>hit</th>\n",
       "      <th>hitRate</th>\n",
       "      <th>differenceValue</th>\n",
       "      <th>sumValue</th>\n",
       "      <th>updateDate</th>\n",
       "    </tr>\n",
       "    <tr>\n",
       "      <th>predictDate</th>\n",
       "      <th></th>\n",
       "      <th></th>\n",
       "      <th></th>\n",
       "      <th></th>\n",
       "      <th></th>\n",
       "      <th></th>\n",
       "    </tr>\n",
       "  </thead>\n",
       "  <tbody>\n",
       "    <tr>\n",
       "      <th>2019-04-16</th>\n",
       "      <td>1</td>\n",
       "      <td></td>\n",
       "      <td></td>\n",
       "      <td></td>\n",
       "      <td></td>\n",
       "      <td>2019-04-16 23:04:31</td>\n",
       "    </tr>\n",
       "  </tbody>\n",
       "</table>\n",
       "</div>"
      ],
      "text/plain": [
       "            predict hit hitRate differenceValue sumValue           updateDate\n",
       "predictDate                                                                  \n",
       "2019-04-16        1                                       2019-04-16 23:04:31"
      ]
     },
     "execution_count": 33,
     "metadata": {},
     "output_type": "execute_result"
    }
   ],
   "source": [
    "db"
   ]
  },
  {
   "cell_type": "code",
   "execution_count": 63,
   "metadata": {},
   "outputs": [],
   "source": [
    "holiday = pd.read_csv(\"holiday.csv\",encoding=\"utf8\")\n",
    "today = datetime.today()\n",
    "twoWeeksAgo = today + timedelta(days=1)\n",
    "dayOfTheWeek = datetime.strftime(twoWeeksAgo,'%a')"
   ]
  },
  {
   "cell_type": "code",
   "execution_count": 66,
   "metadata": {},
   "outputs": [],
   "source": [
    "holiday_array = holiday.values"
   ]
  },
  {
   "cell_type": "code",
   "execution_count": 67,
   "metadata": {},
   "outputs": [
    {
     "data": {
      "text/plain": [
       "array([['2019-01-01'],\n",
       "       ['2019-01-02'],\n",
       "       ['2019-01-03'],\n",
       "       ['2019-01-14'],\n",
       "       ['2019-02-11'],\n",
       "       ['2019-03-21'],\n",
       "       ['2019-04-29'],\n",
       "       ['2019-04-30'],\n",
       "       ['2019-05-01'],\n",
       "       ['2019-05-02'],\n",
       "       ['2019-05-03'],\n",
       "       ['2019-05-04'],\n",
       "       ['2019-05-05'],\n",
       "       ['2019-05-06'],\n",
       "       ['2019-07-15'],\n",
       "       ['2019-08-11'],\n",
       "       ['2019-08-12'],\n",
       "       ['2019-09-16'],\n",
       "       ['2019-09-23'],\n",
       "       ['2019-10-14'],\n",
       "       ['2019-10-22'],\n",
       "       ['2019-11-03'],\n",
       "       ['2019-11-04'],\n",
       "       ['2019-11-23'],\n",
       "       ['2019-12-31'],\n",
       "       ['2020-01-01'],\n",
       "       ['2020-01-02'],\n",
       "       ['2020-01-03'],\n",
       "       ['2020-01-13'],\n",
       "       ['2020-02-11'],\n",
       "       ['2020-02-23'],\n",
       "       ['2020-02-24'],\n",
       "       ['2020-03-20'],\n",
       "       ['2020-04-29'],\n",
       "       ['2020-05-03'],\n",
       "       ['2020-05-04'],\n",
       "       ['2020-05-05'],\n",
       "       ['2020-05-06'],\n",
       "       ['2020-07-23'],\n",
       "       ['2020-07-24'],\n",
       "       ['2020-08-10'],\n",
       "       ['2020-09-21'],\n",
       "       ['2020-09-22'],\n",
       "       ['2020-11-03'],\n",
       "       ['2020-11-23'],\n",
       "       ['2020-12-31']], dtype=object)"
      ]
     },
     "execution_count": 67,
     "metadata": {},
     "output_type": "execute_result"
    }
   ],
   "source": [
    "holiday_array"
   ]
  },
  {
   "cell_type": "code",
   "execution_count": 80,
   "metadata": {},
   "outputs": [],
   "source": [
    "predDay = datetime.today()\n",
    "predDayFormated = datetime.strftime(predDay,'%Y-%m-%d')\n",
    "predDayAdd1 = predDay + timedelta(days=4)\n",
    "predDayAdd1Formated = datetime.strftime(predDayAdd1,'%Y-%m-%d')\n",
    "predDayAdd1DayOfTheWeek = datetime.strftime(predDayAdd1,'%a')\n",
    "\n",
    "holiday_df = pd.read_csv(\"holiday.csv\",encoding=\"utf8\")\n",
    "holiday_array = holiday_df.values"
   ]
  },
  {
   "cell_type": "code",
   "execution_count": 81,
   "metadata": {},
   "outputs": [
    {
     "data": {
      "text/plain": [
       "'Sat'"
      ]
     },
     "execution_count": 81,
     "metadata": {},
     "output_type": "execute_result"
    }
   ],
   "source": [
    "predDayAdd1DayOfTheWeek"
   ]
  },
  {
   "cell_type": "code",
   "execution_count": 83,
   "metadata": {},
   "outputs": [
    {
     "data": {
      "text/plain": [
       "True"
      ]
     },
     "execution_count": 83,
     "metadata": {},
     "output_type": "execute_result"
    }
   ],
   "source": [
    "predDayAdd1DayOfTheWeek == \"Sat\""
   ]
  },
  {
   "cell_type": "code",
   "execution_count": null,
   "metadata": {},
   "outputs": [],
   "source": [
    "while predDayAdd1DayOfTheWeek == \"Sat\" or predDayAdd1DayOfTheWeek == \"Sun\" or predDayAdd1Formated in holiday_array:\n",
    "    predDayAdd1 = predDay + timedelta(days=1)\n",
    "    predDayAdd1Formated = datetime.strftime(predDayAdd1,'%Y-%m-%d')\n",
    "    predDayAdd1DayOfTheWeek = datetime.strftime(predDayAdd1,'%a')\n",
    "\n",
    "    holiday_df = pd.read_csv(\"holiday.csv\",encoding=\"utf8\")\n",
    "    holiday_array = holiday_df.values"
   ]
  }
 ],
 "metadata": {
  "kernelspec": {
   "display_name": "Python 3",
   "language": "python",
   "name": "python3"
  },
  "language_info": {
   "codemirror_mode": {
    "name": "ipython",
    "version": 3
   },
   "file_extension": ".py",
   "mimetype": "text/x-python",
   "name": "python",
   "nbconvert_exporter": "python",
   "pygments_lexer": "ipython3",
   "version": "3.7.1"
  }
 },
 "nbformat": 4,
 "nbformat_minor": 2
}
