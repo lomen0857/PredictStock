{
 "cells": [
  {
   "cell_type": "code",
   "execution_count": 2,
   "metadata": {},
   "outputs": [],
   "source": [
    "CONSUMER_KEY = \"YT8MGQGu4hnD2JEN57w4aR7uj\"\n",
    "CONSUMER_SECRET = \"RRaQVvIUNzmAr3jP7K9AArC24G6IbYW63d6oEqDecSXuBgC6ww\"\n",
    "ACCESS_TOKEN = \"270746850-3t7wzbMTaSNzDAI5q4nwiLJaNxfntcgNYrYQdbhH\"\n",
    "ACCESS_TOKEN_SECRET = \"SuRwffnVU7enPuq7qdUoyfnPDxGeec9Z2uvmcHlMT43oV\""
   ]
  },
  {
   "cell_type": "code",
   "execution_count": null,
   "metadata": {},
   "outputs": [],
   "source": []
  }
 ],
 "metadata": {
  "kernelspec": {
   "display_name": "Python 3",
   "language": "python",
   "name": "python3"
  },
  "language_info": {
   "codemirror_mode": {
    "name": "ipython",
    "version": 3
   },
   "file_extension": ".py",
   "mimetype": "text/x-python",
   "name": "python",
   "nbconvert_exporter": "python",
   "pygments_lexer": "ipython3",
   "version": "3.7.1"
  }
 },
 "nbformat": 4,
 "nbformat_minor": 2
}
