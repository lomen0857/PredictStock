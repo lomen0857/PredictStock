{
 "cells": [
  {
   "cell_type": "code",
   "execution_count": 20,
   "metadata": {},
   "outputs": [],
   "source": [
    "import datetime\n",
    "import numpy as np\n",
    "import pandas as pd\n",
    "import pickle\n",
    "import os.path\n",
    "#pd.core.common.is_list_like = pd.api.types.is_list_like\n",
    "#import pandas_datareader as web\n",
    "\n",
    "from sklearn import preprocessing\n",
    "#from keras.models import Sequential\n",
    "#from keras.models import load_model"
   ]
  },
  {
   "cell_type": "code",
   "execution_count": 21,
   "metadata": {},
   "outputs": [],
   "source": [
    "Xcolumns = pickle.load(open(\"max_Xcolumns.sav\",\"rb\"))\n",
    "columns_array = []"
   ]
  },
  {
   "cell_type": "code",
   "execution_count": 22,
   "metadata": {},
   "outputs": [],
   "source": [
    "for index in range(len(Xcolumns)):\n",
    "    columns_array.append(Xcolumns[index][:4])\n",
    "columns_unique_array = list(set(columns_array))\n",
    "columns_unique_array.append(1321)"
   ]
  },
  {
   "cell_type": "code",
   "execution_count": 23,
   "metadata": {},
   "outputs": [
    {
     "name": "stdout",
     "output_type": "stream",
     "text": [
      "1323\n",
      "1625\n",
      "1552\n",
      "1623\n",
      "1689\n",
      "1626\n",
      "1308\n",
      "1326\n",
      "1672\n",
      "1541\n",
      "1325\n",
      "1695\n",
      "1329\n",
      "1629\n",
      "1620\n",
      "1546\n",
      "1619\n",
      "1621\n",
      "1632\n",
      "1633\n",
      "1670\n",
      "1696\n",
      "1330\n",
      "1542\n",
      "1622\n",
      "1683\n",
      "1627\n",
      "1343\n",
      "1615\n",
      "1545\n",
      "1319\n",
      "1543\n",
      "1617\n",
      "1682\n",
      "1348\n",
      "1697\n",
      "1612\n",
      "1624\n",
      "1324\n",
      "1551\n",
      "1310\n",
      "1628\n",
      "1313\n",
      "1630\n",
      "1678\n",
      "1699\n",
      "1681\n",
      "1698\n",
      "1613\n",
      "1631\n",
      "1679\n",
      "1306\n",
      "1309\n",
      "1349\n",
      "1671\n",
      "1680\n",
      "1690\n",
      "1346\n",
      "1321\n",
      "1327\n",
      "1320\n",
      "1344\n",
      "1540\n",
      "1305\n",
      "1345\n",
      "1618\n",
      "1547\n",
      "1322\n",
      "1311\n",
      "1677\n",
      "1550\n",
      "1321\n"
     ]
    }
   ],
   "source": [
    "for code in columns_unique_array:\n",
    "    print(code)\n",
    "    \n",
    "    path = \"importETF/\" + str(code) + \".csv\"\n",
    "    \n",
    "    if os.path.exists(path):\n",
    "        temp_df = pd.read_csv(path,engine = \"python\" ,encoding=\"utf8\")\n",
    "    else:\n",
    "        error_array.append(code)\n",
    "        continue\n",
    "        \n",
    "    new_df = pd.DataFrame()\n",
    "    new_df[\"Date\"] = temp_df[\"Date\"]\n",
    "    \n",
    "    #始値\n",
    "    new_df[\"Open\"] = 0\n",
    "    \n",
    "    for dateIndex in temp_df.index:\n",
    "        \n",
    "        #当日の始値\n",
    "        openValue = temp_df.at[dateIndex,\"Open\"]\n",
    "        \n",
    "        new_df.at[dateIndex,\"High\"] = temp_df.at[dateIndex,\"High\"] - openValue\n",
    "        new_df.at[dateIndex,\"Low\"] = temp_df.at[dateIndex,\"Low\"] - openValue\n",
    "        new_df.at[dateIndex,\"Close\"] = temp_df.at[dateIndex,\"Close\"] - openValue\n",
    "        \n",
    "        if dateIndex != 0:\n",
    "            new_df.at[dateIndex,\"Volume\"] = temp_df.at[dateIndex,\"Volume\"] - temp_df.at[dateIndex-1,\"Volume\"]\n",
    "            new_df.at[dateIndex,\"Open\"] = openValue - temp_df.at[dateIndex-1,\"Close\"]\n",
    "            \n",
    "        else:\n",
    "            new_df.at[0,\"Volume\"] = 0\n",
    "    \n",
    "    #csvファイル書き出し\n",
    "    new_df.to_csv(\"PredictStockDataDif/\" + str(code) + \"_dif.csv\")"
   ]
  },
  {
   "cell_type": "code",
   "execution_count": null,
   "metadata": {},
   "outputs": [],
   "source": [
    "ETF_df = pd.DataFrame()\n",
    "\n",
    "startDate = \"2010/01/01\"\n",
    "\n",
    "df = pd.read_csv(\"importETF.csv\",encoding=\"utf8\")\n",
    "\n",
    "for code in df[\"code\"]:\n",
    "    \n",
    "    if code not in error_array:\n",
    "        code = str(code)\n",
    "        \n",
    "        temp = pd.DataFrame()\n",
    "        temp = pd.read_csv(\"PredictStockDataDif/\" + code + \"_dif.csv\",encoding=\"utf8\")\n",
    "        \n",
    "        if code == \"1305\":\n",
    "            #初回のみETF_dfにindexを設定\n",
    "            ETF_df[\"Date\"] = temp[\"Date\"]\n",
    "            ETF_df = ETF_df[ETF_df[\"Date\"] > startDate]\n",
    "            ETF_df = ETF_df.set_index(\"Date\")\n",
    "            \n",
    "        if code ==\"1321\":\n",
    "            for dateIndex in range(0,len(temp.index)-1):\n",
    "                tempDate = temp.at[dateIndex,\"Date\"]\n",
    "                \n",
    "                if tempDate <= startDate:\n",
    "                    continue\n",
    "                    \n",
    "                tempClose = temp.at[dateIndex+1,\"Close\"]\n",
    "                if tempClose >= 20:\n",
    "                    ETF_df.at[tempDate,\"nextDay_HighLow\"] = 1\n",
    "                elif tempClose >= 0:\n",
    "                    ETF_df.at[tempDate,\"nextDay_HighLow\"] = 0\n",
    "                elif tempClose > -20:\n",
    "                    ETF_df.at[tempDate,\"nextDay_HighLow\"] = 0\n",
    "                else:\n",
    "                    ETF_df.at[tempDate,\"nextDay_HighLow\"] = -1\n",
    "                    \n",
    "        for dateIndex in temp.index:\n",
    "            tempDate = temp.at[dateIndex,\"Date\"]\n",
    "            \n",
    "            if tempDate <= startDate:\n",
    "                continue\n",
    "                \n",
    "            ETF_df.at[tempDate,code + \"Open\"] = temp.at[dateIndex,\"Open\"]\n",
    "            ETF_df.at[tempDate,code + \"High\"] = temp.at[dateIndex,\"High\"]\n",
    "            ETF_df.at[tempDate,code + \"Low\"] = temp.at[dateIndex,\"Low\"]\n",
    "            ETF_df.at[tempDate,code + \"Close\"] = temp.at[dateIndex,\"Close\"]\n",
    "            ETF_df.at[tempDate,code + \"Volume\"] = temp.at[dateIndex,\"Volume\"]/10000\n",
    "            "
   ]
  },
  {
   "cell_type": "code",
   "execution_count": null,
   "metadata": {},
   "outputs": [],
   "source": [
    "path = \"importETF/1321.csv\"\n",
    "\n",
    "if os.path.exists(path):\n",
    "    nikkei1321_df = pd.read_csv(path,engine = \"python\" ,encoding=\"utf8\")\n",
    "else:\n",
    "    error_array.append(code)\n"
   ]
  },
  {
   "cell_type": "code",
   "execution_count": 52,
   "metadata": {},
   "outputs": [],
   "source": [
    "df = pd.read_csv('nikkei_2001_2018.csv',encoding='SHIFT-JIS')"
   ]
  },
  {
   "cell_type": "code",
   "execution_count": 53,
   "metadata": {},
   "outputs": [],
   "source": [
    "model_open = Sequential()\n",
    "model_open = load_model('model_open')\n",
    "\n",
    "model_close = Sequential()\n",
    "model_close = load_model('model_close')"
   ]
  },
  {
   "cell_type": "code",
   "execution_count": 54,
   "metadata": {},
   "outputs": [],
   "source": [
    "#modelのinput_shapeの要素数を取得\n",
    "input_shape = model_open.layers[0].get_input_at(0).get_shape().as_list()[1]"
   ]
  },
  {
   "cell_type": "code",
   "execution_count": 55,
   "metadata": {},
   "outputs": [
    {
     "data": {
      "text/plain": [
       "MinMaxScaler(copy=True, feature_range=(0, 1))"
      ]
     },
     "execution_count": 55,
     "metadata": {},
     "output_type": "execute_result"
    }
   ],
   "source": [
    "scaler = preprocessing.MinMaxScaler()\n",
    "scaler.fit([[7200],[24790]])\n",
    "scaler.fit([[1],[15]])\n"
   ]
  },
  {
   "cell_type": "code",
   "execution_count": 56,
   "metadata": {},
   "outputs": [
    {
     "data": {
      "text/html": [
       "<div>\n",
       "<style scoped>\n",
       "    .dataframe tbody tr th:only-of-type {\n",
       "        vertical-align: middle;\n",
       "    }\n",
       "\n",
       "    .dataframe tbody tr th {\n",
       "        vertical-align: top;\n",
       "    }\n",
       "\n",
       "    .dataframe thead th {\n",
       "        text-align: right;\n",
       "    }\n",
       "</style>\n",
       "<table border=\"1\" class=\"dataframe\">\n",
       "  <thead>\n",
       "    <tr style=\"text-align: right;\">\n",
       "      <th></th>\n",
       "      <th>日付</th>\n",
       "      <th>始値</th>\n",
       "      <th>高値</th>\n",
       "      <th>安値</th>\n",
       "      <th>終値</th>\n",
       "      <th>出来高</th>\n",
       "      <th>終値調整値</th>\n",
       "    </tr>\n",
       "  </thead>\n",
       "  <tbody>\n",
       "    <tr>\n",
       "      <th>0</th>\n",
       "      <td>2001-07-13</td>\n",
       "      <td>1</td>\n",
       "      <td>12490</td>\n",
       "      <td>12300</td>\n",
       "      <td>2</td>\n",
       "      <td>259430</td>\n",
       "      <td>12310</td>\n",
       "    </tr>\n",
       "    <tr>\n",
       "      <th>1</th>\n",
       "      <td>2001-07-16</td>\n",
       "      <td>3</td>\n",
       "      <td>12400</td>\n",
       "      <td>12250</td>\n",
       "      <td>2</td>\n",
       "      <td>99740</td>\n",
       "      <td>12330</td>\n",
       "    </tr>\n",
       "    <tr>\n",
       "      <th>2</th>\n",
       "      <td>2001-07-17</td>\n",
       "      <td>5</td>\n",
       "      <td>12170</td>\n",
       "      <td>12100</td>\n",
       "      <td>6</td>\n",
       "      <td>93150</td>\n",
       "      <td>12120</td>\n",
       "    </tr>\n",
       "    <tr>\n",
       "      <th>3</th>\n",
       "      <td>2001-07-18</td>\n",
       "      <td>7</td>\n",
       "      <td>12150</td>\n",
       "      <td>11830</td>\n",
       "      <td>6</td>\n",
       "      <td>165330</td>\n",
       "      <td>11840</td>\n",
       "    </tr>\n",
       "    <tr>\n",
       "      <th>4</th>\n",
       "      <td>2001-07-19</td>\n",
       "      <td>9</td>\n",
       "      <td>11990</td>\n",
       "      <td>11860</td>\n",
       "      <td>10</td>\n",
       "      <td>620220</td>\n",
       "      <td>11920</td>\n",
       "    </tr>\n",
       "  </tbody>\n",
       "</table>\n",
       "</div>"
      ],
      "text/plain": [
       "           日付  始値     高値     安値  終値     出来高  終値調整値\n",
       "0  2001-07-13   1  12490  12300   2  259430  12310\n",
       "1  2001-07-16   3  12400  12250   2   99740  12330\n",
       "2  2001-07-17   5  12170  12100   6   93150  12120\n",
       "3  2001-07-18   7  12150  11830   6  165330  11840\n",
       "4  2001-07-19   9  11990  11860  10  620220  11920"
      ]
     },
     "execution_count": 56,
     "metadata": {},
     "output_type": "execute_result"
    }
   ],
   "source": [
    "df.head()"
   ]
  },
  {
   "cell_type": "code",
   "execution_count": 57,
   "metadata": {},
   "outputs": [
    {
     "name": "stdout",
     "output_type": "stream",
     "text": [
      "2001-08-18\n"
     ]
    }
   ],
   "source": [
    "input_data = input()\n",
    "\n",
    "end_index = df.query('日付 == \"' + str(input_data) + '\"').index\n",
    "start_index = end_index - input_shape\n",
    "\n",
    "df = df[start_index.values[0]:end_index.values[0]]"
   ]
  },
  {
   "cell_type": "code",
   "execution_count": 58,
   "metadata": {},
   "outputs": [],
   "source": [
    "open_date = df.loc[:, ['始値']]\n",
    "close_date = df.loc[:, ['終値']]"
   ]
  },
  {
   "cell_type": "code",
   "execution_count": 59,
   "metadata": {},
   "outputs": [],
   "source": [
    "open_date = np.array(open_date)\n",
    "close_date = np.array(close_date)"
   ]
  },
  {
   "cell_type": "code",
   "execution_count": 60,
   "metadata": {},
   "outputs": [],
   "source": [
    "open_date = scaler.transform(open_date)\n",
    "close_date = scaler.transform(close_date)\n",
    "\n",
    "open_date = open_date.reshape(1,input_shape,1)\n",
    "close_date = close_date.reshape(1,input_shape,1)"
   ]
  },
  {
   "cell_type": "code",
   "execution_count": 61,
   "metadata": {},
   "outputs": [
    {
     "name": "stdout",
     "output_type": "stream",
     "text": [
      "[[ 0.57892853]]\n",
      "[[ 0.54372144]]\n"
     ]
    }
   ],
   "source": [
    "predicted_open = model_open.predict(open_date)\n",
    "predicted_close = model_close.predict(close_date)\n",
    "print(predicted_open)\n",
    "print(predicted_close)"
   ]
  },
  {
   "cell_type": "code",
   "execution_count": 62,
   "metadata": {},
   "outputs": [
    {
     "name": "stdout",
     "output_type": "stream",
     "text": [
      "降下\n"
     ]
    }
   ],
   "source": [
    "if predicted_open <= predicted_close:\n",
    "    print('上昇')\n",
    "else:\n",
    "    print('降下')"
   ]
  },
  {
   "cell_type": "code",
   "execution_count": null,
   "metadata": {},
   "outputs": [],
   "source": []
  }
 ],
 "metadata": {
  "kernelspec": {
   "display_name": "Python 3",
   "language": "python",
   "name": "python3"
  },
  "language_info": {
   "codemirror_mode": {
    "name": "ipython",
    "version": 3
   },
   "file_extension": ".py",
   "mimetype": "text/x-python",
   "name": "python",
   "nbconvert_exporter": "python",
   "pygments_lexer": "ipython3",
   "version": "3.6.5"
  }
 },
 "nbformat": 4,
 "nbformat_minor": 2
}
