{
 "cells": [
  {
   "cell_type": "code",
   "execution_count": null,
   "metadata": {},
   "outputs": [],
   "source": [
    "import predictStock\n",
    "import postTweet\n",
    "from datetime import datetime, date, timedelta\n",
    "\n",
    "pred = predictStock.predictStock()\n",
    "\n",
    "if pred > 0:\n",
    "    pred = \"当たり！\"\n",
    "else:\n",
    "    pred = \"ハズレ・・・\"\n",
    "\n",
    "    \n",
    "db = pd.read_csv(\"dataBase.csv\",encoding=\"utf8\")\n",
    "tweet = \"前の日の予想は「\" + pred + \"」です。\" + \"正答率は「\" + hitRate + \"」です。\" + \"利益は「\" + sumValue +\"」です。\"\n",
    "\n",
    "#dataCount,predictDate,predict,hit,hitRate,differenceValue,sumValue,updateDate\n",
    "#ツイートメソッド呼び出し\n",
    "tweetResult = postTweet.postTweet(tweet)"
   ]
  }
 ],
 "metadata": {
  "kernelspec": {
   "display_name": "Python 3",
   "language": "python",
   "name": "python3"
  },
  "language_info": {
   "codemirror_mode": {
    "name": "ipython",
    "version": 3
   },
   "file_extension": ".py",
   "mimetype": "text/x-python",
   "name": "python",
   "nbconvert_exporter": "python",
   "pygments_lexer": "ipython3",
   "version": "3.6.5"
  }
 },
 "nbformat": 4,
 "nbformat_minor": 2
}
