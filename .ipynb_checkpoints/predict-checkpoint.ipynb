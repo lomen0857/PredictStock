{
 "cells": [
  {
   "cell_type": "code",
   "execution_count": 45,
   "metadata": {},
   "outputs": [],
   "source": [
    "import datetime\n",
    "import numpy as np\n",
    "\n",
    "import pandas as pd\n",
    "#pd.core.common.is_list_like = pd.api.types.is_list_like\n",
    "#import pandas_datareader as web\n",
    "\n",
    "from sklearn import preprocessing\n",
    "from keras.models import Sequential\n",
    "from keras.models import load_model"
   ]
  },
  {
   "cell_type": "code",
   "execution_count": null,
   "metadata": {},
   "outputs": [],
   "source": [
    "path = \"importETF/１３２１.csv\"\n",
    "\n",
    "if os.path.exists(path):\n",
    "    temp_df = pd.read_csv(path,engine = \"python\" ,encoding=\"utf8\")\n",
    "else:\n",
    "    error_array.append(code)\n",
    "    continue"
   ]
  },
  {
   "cell_type": "code",
   "execution_count": 52,
   "metadata": {},
   "outputs": [],
   "source": [
    "df = pd.read_csv('nikkei_2001_2018.csv',encoding='SHIFT-JIS')"
   ]
  },
  {
   "cell_type": "code",
   "execution_count": 53,
   "metadata": {},
   "outputs": [],
   "source": [
    "model_open = Sequential()\n",
    "model_open = load_model('model_open')\n",
    "\n",
    "model_close = Sequential()\n",
    "model_close = load_model('model_close')"
   ]
  },
  {
   "cell_type": "code",
   "execution_count": 54,
   "metadata": {},
   "outputs": [],
   "source": [
    "#modelのinput_shapeの要素数を取得\n",
    "input_shape = model_open.layers[0].get_input_at(0).get_shape().as_list()[1]"
   ]
  },
  {
   "cell_type": "code",
   "execution_count": 55,
   "metadata": {},
   "outputs": [
    {
     "data": {
      "text/plain": [
       "MinMaxScaler(copy=True, feature_range=(0, 1))"
      ]
     },
     "execution_count": 55,
     "metadata": {},
     "output_type": "execute_result"
    }
   ],
   "source": [
    "scaler = preprocessing.MinMaxScaler()\n",
    "scaler.fit([[7200],[24790]])\n",
    "scaler.fit([[1],[15]])\n"
   ]
  },
  {
   "cell_type": "code",
   "execution_count": 56,
   "metadata": {},
   "outputs": [
    {
     "data": {
      "text/html": [
       "<div>\n",
       "<style scoped>\n",
       "    .dataframe tbody tr th:only-of-type {\n",
       "        vertical-align: middle;\n",
       "    }\n",
       "\n",
       "    .dataframe tbody tr th {\n",
       "        vertical-align: top;\n",
       "    }\n",
       "\n",
       "    .dataframe thead th {\n",
       "        text-align: right;\n",
       "    }\n",
       "</style>\n",
       "<table border=\"1\" class=\"dataframe\">\n",
       "  <thead>\n",
       "    <tr style=\"text-align: right;\">\n",
       "      <th></th>\n",
       "      <th>日付</th>\n",
       "      <th>始値</th>\n",
       "      <th>高値</th>\n",
       "      <th>安値</th>\n",
       "      <th>終値</th>\n",
       "      <th>出来高</th>\n",
       "      <th>終値調整値</th>\n",
       "    </tr>\n",
       "  </thead>\n",
       "  <tbody>\n",
       "    <tr>\n",
       "      <th>0</th>\n",
       "      <td>2001-07-13</td>\n",
       "      <td>1</td>\n",
       "      <td>12490</td>\n",
       "      <td>12300</td>\n",
       "      <td>2</td>\n",
       "      <td>259430</td>\n",
       "      <td>12310</td>\n",
       "    </tr>\n",
       "    <tr>\n",
       "      <th>1</th>\n",
       "      <td>2001-07-16</td>\n",
       "      <td>3</td>\n",
       "      <td>12400</td>\n",
       "      <td>12250</td>\n",
       "      <td>2</td>\n",
       "      <td>99740</td>\n",
       "      <td>12330</td>\n",
       "    </tr>\n",
       "    <tr>\n",
       "      <th>2</th>\n",
       "      <td>2001-07-17</td>\n",
       "      <td>5</td>\n",
       "      <td>12170</td>\n",
       "      <td>12100</td>\n",
       "      <td>6</td>\n",
       "      <td>93150</td>\n",
       "      <td>12120</td>\n",
       "    </tr>\n",
       "    <tr>\n",
       "      <th>3</th>\n",
       "      <td>2001-07-18</td>\n",
       "      <td>7</td>\n",
       "      <td>12150</td>\n",
       "      <td>11830</td>\n",
       "      <td>6</td>\n",
       "      <td>165330</td>\n",
       "      <td>11840</td>\n",
       "    </tr>\n",
       "    <tr>\n",
       "      <th>4</th>\n",
       "      <td>2001-07-19</td>\n",
       "      <td>9</td>\n",
       "      <td>11990</td>\n",
       "      <td>11860</td>\n",
       "      <td>10</td>\n",
       "      <td>620220</td>\n",
       "      <td>11920</td>\n",
       "    </tr>\n",
       "  </tbody>\n",
       "</table>\n",
       "</div>"
      ],
      "text/plain": [
       "           日付  始値     高値     安値  終値     出来高  終値調整値\n",
       "0  2001-07-13   1  12490  12300   2  259430  12310\n",
       "1  2001-07-16   3  12400  12250   2   99740  12330\n",
       "2  2001-07-17   5  12170  12100   6   93150  12120\n",
       "3  2001-07-18   7  12150  11830   6  165330  11840\n",
       "4  2001-07-19   9  11990  11860  10  620220  11920"
      ]
     },
     "execution_count": 56,
     "metadata": {},
     "output_type": "execute_result"
    }
   ],
   "source": [
    "df.head()"
   ]
  },
  {
   "cell_type": "code",
   "execution_count": 57,
   "metadata": {},
   "outputs": [
    {
     "name": "stdout",
     "output_type": "stream",
     "text": [
      "2001-08-18\n"
     ]
    }
   ],
   "source": [
    "input_data = input()\n",
    "\n",
    "end_index = df.query('日付 == \"' + str(input_data) + '\"').index\n",
    "start_index = end_index - input_shape\n",
    "\n",
    "df = df[start_index.values[0]:end_index.values[0]]"
   ]
  },
  {
   "cell_type": "code",
   "execution_count": 58,
   "metadata": {},
   "outputs": [],
   "source": [
    "open_date = df.loc[:, ['始値']]\n",
    "close_date = df.loc[:, ['終値']]"
   ]
  },
  {
   "cell_type": "code",
   "execution_count": 59,
   "metadata": {},
   "outputs": [],
   "source": [
    "open_date = np.array(open_date)\n",
    "close_date = np.array(close_date)"
   ]
  },
  {
   "cell_type": "code",
   "execution_count": 60,
   "metadata": {},
   "outputs": [],
   "source": [
    "open_date = scaler.transform(open_date)\n",
    "close_date = scaler.transform(close_date)\n",
    "\n",
    "open_date = open_date.reshape(1,input_shape,1)\n",
    "close_date = close_date.reshape(1,input_shape,1)"
   ]
  },
  {
   "cell_type": "code",
   "execution_count": 61,
   "metadata": {},
   "outputs": [
    {
     "name": "stdout",
     "output_type": "stream",
     "text": [
      "[[ 0.57892853]]\n",
      "[[ 0.54372144]]\n"
     ]
    }
   ],
   "source": [
    "predicted_open = model_open.predict(open_date)\n",
    "predicted_close = model_close.predict(close_date)\n",
    "print(predicted_open)\n",
    "print(predicted_close)"
   ]
  },
  {
   "cell_type": "code",
   "execution_count": 62,
   "metadata": {},
   "outputs": [
    {
     "name": "stdout",
     "output_type": "stream",
     "text": [
      "降下\n"
     ]
    }
   ],
   "source": [
    "if predicted_open <= predicted_close:\n",
    "    print('上昇')\n",
    "else:\n",
    "    print('降下')"
   ]
  },
  {
   "cell_type": "code",
   "execution_count": null,
   "metadata": {},
   "outputs": [],
   "source": []
  }
 ],
 "metadata": {
  "kernelspec": {
   "display_name": "Python 3",
   "language": "python",
   "name": "python3"
  },
  "language_info": {
   "codemirror_mode": {
    "name": "ipython",
    "version": 3
   },
   "file_extension": ".py",
   "mimetype": "text/x-python",
   "name": "python",
   "nbconvert_exporter": "python",
   "pygments_lexer": "ipython3",
   "version": "3.7.1"
  }
 },
 "nbformat": 4,
 "nbformat_minor": 2
}
