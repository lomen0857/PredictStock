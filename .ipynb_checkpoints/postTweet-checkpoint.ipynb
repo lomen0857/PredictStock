{
 "cells": [
  {
   "cell_type": "code",
   "execution_count": 1,
   "metadata": {},
   "outputs": [],
   "source": [
    "import sys\n",
    "from datetime import datetime, date, timedelta\n",
    "import numpy as np\n",
    "import pandas as pd\n",
    "import pickle\n",
    "import notebookutil as nbu\n",
    "sys.meta_path.append(nbu.NotebookFinder())\n",
    "import json\n",
    "import config\n",
    "import predictStock\n",
    "from requests_oauthlib import OAuth1Session #OAuthのライブラリの読み込み"
   ]
  },
  {
   "cell_type": "code",
   "execution_count": 3,
   "metadata": {},
   "outputs": [
    {
     "name": "stdout",
     "output_type": "stream",
     "text": [
      "Get data from 2019-03-31 to 2019-04-14\n"
     ]
    },
    {
     "name": "stderr",
     "output_type": "stream",
     "text": [
      "C:\\Users\\shuns\\Anaconda3\\lib\\site-packages\\jsm\\util.py:12: UserWarning: No parser was explicitly specified, so I'm using the best available HTML parser for this system (\"lxml\"). This usually isn't a problem, but if you run this code on another system, or in a different virtual environment, it may use a different parser and behave differently.\n",
      "\n",
      "The code that caused this warning is on line 12 of the file C:\\Users\\shuns\\Anaconda3\\lib\\site-packages\\jsm\\util.py. To get rid of this warning, pass the additional argument 'features=\"lxml\"' to the BeautifulSoup constructor.\n",
      "\n",
      "  soup = BeautifulSoup(html)\n"
     ]
    },
    {
     "name": "stdout",
     "output_type": "stream",
     "text": [
      "start:1610\n",
      "Get data from 2019-04-11 to 2019-04-12\n",
      "error\n",
      "start:1305\n",
      "Get data from 2019-04-11 to 2019-04-12\n",
      "end:1305\n",
      "start:1321\n",
      "Get data from 2019-04-11 to 2019-04-12\n",
      "end:1321\n",
      "start:1612\n",
      "Get data from 2019-04-11 to 2019-04-12\n",
      "end:1612\n",
      "start:1615\n",
      "Get data from 2019-04-11 to 2019-04-12\n",
      "end:1615\n",
      "start:1320\n",
      "Get data from 2019-04-11 to 2019-04-12\n",
      "end:1320\n",
      "start:1308\n",
      "Get data from 2019-04-11 to 2019-04-12\n",
      "end:1308\n",
      "start:1311\n",
      "Get data from 2019-04-11 to 2019-04-12\n",
      "end:1311\n",
      "start:1319\n",
      "Get data from 2019-04-11 to 2019-04-12\n",
      "end:1319\n",
      "start:1306\n",
      "Get data from 2019-04-11 to 2019-04-12\n",
      "end:1306\n",
      "start:1310\n",
      "Get data from 2019-04-11 to 2019-04-12\n",
      "end:1310\n",
      "start:1613\n",
      "Get data from 2019-04-11 to 2019-04-12\n",
      "error\n",
      "start:1330\n",
      "Get data from 2019-04-11 to 2019-04-12\n",
      "end:1330\n",
      "1610\n",
      "1305\n",
      "1321\n",
      "1612\n",
      "1615\n",
      "1320\n",
      "1308\n",
      "1311\n",
      "1319\n",
      "1306\n",
      "1310\n",
      "1613\n",
      "1330\n"
     ]
    }
   ],
   "source": [
    "pred = predictStock.predictStock()\n",
    "\n",
    "if pred > 0:\n",
    "    pred = \"上昇\"\n",
    "else:\n",
    "    pred = \"降下\"\n",
    "\n",
    "tweet = \"次の日の予想は「\" + pred + \"」です。\""
   ]
  },
  {
   "cell_type": "code",
   "execution_count": 4,
   "metadata": {},
   "outputs": [
    {
     "data": {
      "text/plain": [
       "'2019-04-15の予想は「降下」です。'"
      ]
     },
     "execution_count": 4,
     "metadata": {},
     "output_type": "execute_result"
    }
   ],
   "source": [
    "tweet"
   ]
  },
  {
   "cell_type": "code",
   "execution_count": 6,
   "metadata": {},
   "outputs": [],
   "source": [
    "CK = config.CONSUMER_KEY\n",
    "CS = config.CONSUMER_SECRET\n",
    "AT = config.ACCESS_TOKEN\n",
    "ATS = config.ACCESS_TOKEN_SECRET\n",
    "twitter = OAuth1Session(CK, CS, AT, ATS) #認証処理\n",
    "\n",
    "url = \"https://api.twitter.com/1.1/statuses/update.json\" #ツイートポストエンドポイント"
   ]
  },
  {
   "cell_type": "code",
   "execution_count": 5,
   "metadata": {},
   "outputs": [],
   "source": [
    "db = pd.read_csv(\"dataBase.csv\",encoding=\"utf8\")\n"
   ]
  },
  {
   "cell_type": "code",
   "execution_count": null,
   "metadata": {},
   "outputs": [],
   "source": [
    "df"
   ]
  },
  {
   "cell_type": "code",
   "execution_count": 7,
   "metadata": {},
   "outputs": [
    {
     "name": "stdout",
     "output_type": "stream",
     "text": [
      "Failed. : 404\n"
     ]
    }
   ],
   "source": [
    "params = {\"status\" : tweet}\n",
    "\n",
    "res = twitter.post(url, params = params) #post送信\n",
    "\n",
    "if res.status_code == 200: #正常投稿出来た場合\n",
    "    db = pd.read_csv(\"dataBase.csv\",encoding=\"utf8\")\n",
    "    \n",
    "    dataCount,predictDate,predict,hit,hitRate,differenceValue,sumValue,updateDate\n",
    "    \n",
    "    df.loc['ONE'] = 0\n",
    "    \n",
    "    print(\"Success.\")\n",
    "else: #正常投稿出来なかった場合\n",
    "    print(\"Failed. : %d\"% res.status_code)"
   ]
  },
  {
   "cell_type": "code",
   "execution_count": null,
   "metadata": {},
   "outputs": [],
   "source": []
  }
 ],
 "metadata": {
  "kernelspec": {
   "display_name": "Python 3",
   "language": "python",
   "name": "python3"
  },
  "language_info": {
   "codemirror_mode": {
    "name": "ipython",
    "version": 3
   },
   "file_extension": ".py",
   "mimetype": "text/x-python",
   "name": "python",
   "nbconvert_exporter": "python",
   "pygments_lexer": "ipython3",
   "version": "3.7.1"
  }
 },
 "nbformat": 4,
 "nbformat_minor": 2
}
