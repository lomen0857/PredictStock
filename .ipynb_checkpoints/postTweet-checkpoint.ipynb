{
 "cells": [
  {
   "cell_type": "code",
   "execution_count": 1,
   "metadata": {},
   "outputs": [],
   "source": [
    "import sys\n",
    "import notebookutil as nbu\n",
    "sys.meta_path.append(nbu.NotebookFinder())"
   ]
  },
  {
   "cell_type": "code",
   "execution_count": 3,
   "metadata": {},
   "outputs": [],
   "source": [
    "import json\n",
    "import config\n",
    "from requests_oauthlib import OAuth1Session #OAuthのライブラリの読み込み"
   ]
  },
  {
   "cell_type": "code",
   "execution_count": 6,
   "metadata": {},
   "outputs": [],
   "source": [
    "CK = config.CONSUMER_KEY\n",
    "CS = config.CONSUMER_SECRET\n",
    "AT = config.ACCESS_TOKEN\n",
    "ATS = config.ACCESS_TOKEN_SECRET\n",
    "twitter = OAuth1Session(CK, CS, AT, ATS) #認証処理\n",
    "\n",
    "url = \"https://api.twitter.com/1.1/statuses/update.json\" #ツイートポストエンドポイント"
   ]
  },
  {
   "cell_type": "code",
   "execution_count": 7,
   "metadata": {},
   "outputs": [
    {
     "name": "stdout",
     "output_type": "stream",
     "text": [
      "Failed. : 404\n"
     ]
    }
   ],
   "source": [
    "tweet = (\"テスト\")\n",
    "\n",
    "params = {\"status\" : tweet}\n",
    "\n",
    "res = twitter.post(url, params = params) #post送信\n",
    "\n",
    "if res.status_code == 200: #正常投稿出来た場合\n",
    "    print(\"Success.\")\n",
    "else: #正常投稿出来なかった場合\n",
    "    print(\"Failed. : %d\"% res.status_code)"
   ]
  },
  {
   "cell_type": "code",
   "execution_count": null,
   "metadata": {},
   "outputs": [],
   "source": []
  }
 ],
 "metadata": {
  "kernelspec": {
   "display_name": "Python 3",
   "language": "python",
   "name": "python3"
  },
  "language_info": {
   "codemirror_mode": {
    "name": "ipython",
    "version": 3
   },
   "file_extension": ".py",
   "mimetype": "text/x-python",
   "name": "python",
   "nbconvert_exporter": "python",
   "pygments_lexer": "ipython3",
   "version": "3.7.1"
  }
 },
 "nbformat": 4,
 "nbformat_minor": 2
}
